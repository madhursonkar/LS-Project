{
 "nbformat": 4,
 "nbformat_minor": 0,
 "metadata": {
  "colab": {
   "provenance": [],
   "collapsed_sections": [
    "hDr-XSJJJtDu",
    "bokBuhP2JwG7"
   ],
   "gpuType": "T4",
   "authorship_tag": "ABX9TyMExR0n0e4AWAQqXXX3QYot"
  },
  "kernelspec": {
   "name": "python3",
   "display_name": "Python 3"
  },
  "language_info": {
   "name": "python"
  },
  "accelerator": "GPU"
 },
 "cells": [
  {
   "cell_type": "markdown",
   "source": [
    "#Description\n",
    "\n",
    "I have used gpt2-medium model for this project. The dataset which i have used is wikitext-2-v1 which is quite small dataset to train model on. For this reason the model's accuracy is not good. Previously I tried to train model with wikitext-103-v1 dataset a huge dataset and it was very difficult to train model with that dataset and a T4 gpu. Even 1 epoch took 4 hours to complete. This is why I used wikitext-2-v1 dataset."
   ],
   "metadata": {
    "id": "ZmSZBzMaV1pt"
   }
  },
  {
   "cell_type": "markdown",
   "source": [
    "#Installing Libraries"
   ],
   "metadata": {
    "id": "hDr-XSJJJtDu"
   }
  },
  {
   "cell_type": "code",
   "execution_count": 1,
   "metadata": {
    "colab": {
     "base_uri": "https://localhost:8080/"
    },
    "id": "So9Mr_LTJjg5",
    "executionInfo": {
     "status": "ok",
     "timestamp": 1752064121253,
     "user_tz": -330,
     "elapsed": 112435,
     "user": {
      "displayName": "Madhur Sonkar",
      "userId": "16646029765374333998"
     }
    },
    "outputId": "b1b7cf0a-af4d-4b3e-cef9-74aa1031d1b6"
   },
   "outputs": [
    {
     "output_type": "stream",
     "name": "stdout",
     "text": [
      "Requirement already satisfied: transformers in /usr/local/lib/python3.11/dist-packages (4.53.0)\n",
      "Requirement already satisfied: datasets in /usr/local/lib/python3.11/dist-packages (2.14.4)\n",
      "Requirement already satisfied: accelerate in /usr/local/lib/python3.11/dist-packages (1.8.1)\n",
      "Requirement already satisfied: filelock in /usr/local/lib/python3.11/dist-packages (from transformers) (3.18.0)\n",
      "Requirement already satisfied: huggingface-hub<1.0,>=0.30.0 in /usr/local/lib/python3.11/dist-packages (from transformers) (0.33.2)\n",
      "Requirement already satisfied: numpy>=1.17 in /usr/local/lib/python3.11/dist-packages (from transformers) (2.0.2)\n",
      "Requirement already satisfied: packaging>=20.0 in /usr/local/lib/python3.11/dist-packages (from transformers) (24.2)\n",
      "Requirement already satisfied: pyyaml>=5.1 in /usr/local/lib/python3.11/dist-packages (from transformers) (6.0.2)\n",
      "Requirement already satisfied: regex!=2019.12.17 in /usr/local/lib/python3.11/dist-packages (from transformers) (2024.11.6)\n",
      "Requirement already satisfied: requests in /usr/local/lib/python3.11/dist-packages (from transformers) (2.32.3)\n",
      "Requirement already satisfied: tokenizers<0.22,>=0.21 in /usr/local/lib/python3.11/dist-packages (from transformers) (0.21.2)\n",
      "Requirement already satisfied: safetensors>=0.4.3 in /usr/local/lib/python3.11/dist-packages (from transformers) (0.5.3)\n",
      "Requirement already satisfied: tqdm>=4.27 in /usr/local/lib/python3.11/dist-packages (from transformers) (4.67.1)\n",
      "Requirement already satisfied: pyarrow>=8.0.0 in /usr/local/lib/python3.11/dist-packages (from datasets) (18.1.0)\n",
      "Requirement already satisfied: dill<0.3.8,>=0.3.0 in /usr/local/lib/python3.11/dist-packages (from datasets) (0.3.7)\n",
      "Requirement already satisfied: pandas in /usr/local/lib/python3.11/dist-packages (from datasets) (2.2.2)\n",
      "Requirement already satisfied: xxhash in /usr/local/lib/python3.11/dist-packages (from datasets) (3.5.0)\n",
      "Requirement already satisfied: multiprocess in /usr/local/lib/python3.11/dist-packages (from datasets) (0.70.15)\n",
      "Requirement already satisfied: fsspec>=2021.11.1 in /usr/local/lib/python3.11/dist-packages (from fsspec[http]>=2021.11.1->datasets) (2025.3.2)\n",
      "Requirement already satisfied: aiohttp in /usr/local/lib/python3.11/dist-packages (from datasets) (3.11.15)\n",
      "Requirement already satisfied: psutil in /usr/local/lib/python3.11/dist-packages (from accelerate) (5.9.5)\n",
      "Requirement already satisfied: torch>=2.0.0 in /usr/local/lib/python3.11/dist-packages (from accelerate) (2.6.0+cu124)\n",
      "Requirement already satisfied: aiohappyeyeballs>=2.3.0 in /usr/local/lib/python3.11/dist-packages (from aiohttp->datasets) (2.6.1)\n",
      "Requirement already satisfied: aiosignal>=1.1.2 in /usr/local/lib/python3.11/dist-packages (from aiohttp->datasets) (1.3.2)\n",
      "Requirement already satisfied: attrs>=17.3.0 in /usr/local/lib/python3.11/dist-packages (from aiohttp->datasets) (25.3.0)\n",
      "Requirement already satisfied: frozenlist>=1.1.1 in /usr/local/lib/python3.11/dist-packages (from aiohttp->datasets) (1.7.0)\n",
      "Requirement already satisfied: multidict<7.0,>=4.5 in /usr/local/lib/python3.11/dist-packages (from aiohttp->datasets) (6.6.3)\n",
      "Requirement already satisfied: propcache>=0.2.0 in /usr/local/lib/python3.11/dist-packages (from aiohttp->datasets) (0.3.2)\n",
      "Requirement already satisfied: yarl<2.0,>=1.17.0 in /usr/local/lib/python3.11/dist-packages (from aiohttp->datasets) (1.20.1)\n",
      "Requirement already satisfied: typing-extensions>=3.7.4.3 in /usr/local/lib/python3.11/dist-packages (from huggingface-hub<1.0,>=0.30.0->transformers) (4.14.0)\n",
      "Requirement already satisfied: hf-xet<2.0.0,>=1.1.2 in /usr/local/lib/python3.11/dist-packages (from huggingface-hub<1.0,>=0.30.0->transformers) (1.1.5)\n",
      "Requirement already satisfied: charset-normalizer<4,>=2 in /usr/local/lib/python3.11/dist-packages (from requests->transformers) (3.4.2)\n",
      "Requirement already satisfied: idna<4,>=2.5 in /usr/local/lib/python3.11/dist-packages (from requests->transformers) (3.10)\n",
      "Requirement already satisfied: urllib3<3,>=1.21.1 in /usr/local/lib/python3.11/dist-packages (from requests->transformers) (2.4.0)\n",
      "Requirement already satisfied: certifi>=2017.4.17 in /usr/local/lib/python3.11/dist-packages (from requests->transformers) (2025.6.15)\n",
      "Requirement already satisfied: networkx in /usr/local/lib/python3.11/dist-packages (from torch>=2.0.0->accelerate) (3.5)\n",
      "Requirement already satisfied: jinja2 in /usr/local/lib/python3.11/dist-packages (from torch>=2.0.0->accelerate) (3.1.6)\n",
      "Collecting nvidia-cuda-nvrtc-cu12==12.4.127 (from torch>=2.0.0->accelerate)\n",
      "  Downloading nvidia_cuda_nvrtc_cu12-12.4.127-py3-none-manylinux2014_x86_64.whl.metadata (1.5 kB)\n",
      "Collecting nvidia-cuda-runtime-cu12==12.4.127 (from torch>=2.0.0->accelerate)\n",
      "  Downloading nvidia_cuda_runtime_cu12-12.4.127-py3-none-manylinux2014_x86_64.whl.metadata (1.5 kB)\n",
      "Collecting nvidia-cuda-cupti-cu12==12.4.127 (from torch>=2.0.0->accelerate)\n",
      "  Downloading nvidia_cuda_cupti_cu12-12.4.127-py3-none-manylinux2014_x86_64.whl.metadata (1.6 kB)\n",
      "Collecting nvidia-cudnn-cu12==9.1.0.70 (from torch>=2.0.0->accelerate)\n",
      "  Downloading nvidia_cudnn_cu12-9.1.0.70-py3-none-manylinux2014_x86_64.whl.metadata (1.6 kB)\n",
      "Collecting nvidia-cublas-cu12==12.4.5.8 (from torch>=2.0.0->accelerate)\n",
      "  Downloading nvidia_cublas_cu12-12.4.5.8-py3-none-manylinux2014_x86_64.whl.metadata (1.5 kB)\n",
      "Collecting nvidia-cufft-cu12==11.2.1.3 (from torch>=2.0.0->accelerate)\n",
      "  Downloading nvidia_cufft_cu12-11.2.1.3-py3-none-manylinux2014_x86_64.whl.metadata (1.5 kB)\n",
      "Collecting nvidia-curand-cu12==10.3.5.147 (from torch>=2.0.0->accelerate)\n",
      "  Downloading nvidia_curand_cu12-10.3.5.147-py3-none-manylinux2014_x86_64.whl.metadata (1.5 kB)\n",
      "Collecting nvidia-cusolver-cu12==11.6.1.9 (from torch>=2.0.0->accelerate)\n",
      "  Downloading nvidia_cusolver_cu12-11.6.1.9-py3-none-manylinux2014_x86_64.whl.metadata (1.6 kB)\n",
      "Collecting nvidia-cusparse-cu12==12.3.1.170 (from torch>=2.0.0->accelerate)\n",
      "  Downloading nvidia_cusparse_cu12-12.3.1.170-py3-none-manylinux2014_x86_64.whl.metadata (1.6 kB)\n",
      "Requirement already satisfied: nvidia-cusparselt-cu12==0.6.2 in /usr/local/lib/python3.11/dist-packages (from torch>=2.0.0->accelerate) (0.6.2)\n",
      "Requirement already satisfied: nvidia-nccl-cu12==2.21.5 in /usr/local/lib/python3.11/dist-packages (from torch>=2.0.0->accelerate) (2.21.5)\n",
      "Requirement already satisfied: nvidia-nvtx-cu12==12.4.127 in /usr/local/lib/python3.11/dist-packages (from torch>=2.0.0->accelerate) (12.4.127)\n",
      "Collecting nvidia-nvjitlink-cu12==12.4.127 (from torch>=2.0.0->accelerate)\n",
      "  Downloading nvidia_nvjitlink_cu12-12.4.127-py3-none-manylinux2014_x86_64.whl.metadata (1.5 kB)\n",
      "Requirement already satisfied: triton==3.2.0 in /usr/local/lib/python3.11/dist-packages (from torch>=2.0.0->accelerate) (3.2.0)\n",
      "Requirement already satisfied: sympy==1.13.1 in /usr/local/lib/python3.11/dist-packages (from torch>=2.0.0->accelerate) (1.13.1)\n",
      "Requirement already satisfied: mpmath<1.4,>=1.1.0 in /usr/local/lib/python3.11/dist-packages (from sympy==1.13.1->torch>=2.0.0->accelerate) (1.3.0)\n",
      "Requirement already satisfied: python-dateutil>=2.8.2 in /usr/local/lib/python3.11/dist-packages (from pandas->datasets) (2.9.0.post0)\n",
      "Requirement already satisfied: pytz>=2020.1 in /usr/local/lib/python3.11/dist-packages (from pandas->datasets) (2025.2)\n",
      "Requirement already satisfied: tzdata>=2022.7 in /usr/local/lib/python3.11/dist-packages (from pandas->datasets) (2025.2)\n",
      "Requirement already satisfied: six>=1.5 in /usr/local/lib/python3.11/dist-packages (from python-dateutil>=2.8.2->pandas->datasets) (1.17.0)\n",
      "Requirement already satisfied: MarkupSafe>=2.0 in /usr/local/lib/python3.11/dist-packages (from jinja2->torch>=2.0.0->accelerate) (3.0.2)\n",
      "Downloading nvidia_cublas_cu12-12.4.5.8-py3-none-manylinux2014_x86_64.whl (363.4 MB)\n",
      "\u001b[2K   \u001b[90m\u2501\u2501\u2501\u2501\u2501\u2501\u2501\u2501\u2501\u2501\u2501\u2501\u2501\u2501\u2501\u2501\u2501\u2501\u2501\u2501\u2501\u2501\u2501\u2501\u2501\u2501\u2501\u2501\u2501\u2501\u2501\u2501\u2501\u2501\u2501\u2501\u2501\u2501\u2501\u2501\u001b[0m \u001b[32m363.4/363.4 MB\u001b[0m \u001b[31m4.4 MB/s\u001b[0m eta \u001b[36m0:00:00\u001b[0m\n",
      "\u001b[?25hDownloading nvidia_cuda_cupti_cu12-12.4.127-py3-none-manylinux2014_x86_64.whl (13.8 MB)\n",
      "\u001b[2K   \u001b[90m\u2501\u2501\u2501\u2501\u2501\u2501\u2501\u2501\u2501\u2501\u2501\u2501\u2501\u2501\u2501\u2501\u2501\u2501\u2501\u2501\u2501\u2501\u2501\u2501\u2501\u2501\u2501\u2501\u2501\u2501\u2501\u2501\u2501\u2501\u2501\u2501\u2501\u2501\u2501\u2501\u001b[0m \u001b[32m13.8/13.8 MB\u001b[0m \u001b[31m122.4 MB/s\u001b[0m eta \u001b[36m0:00:00\u001b[0m\n",
      "\u001b[?25hDownloading nvidia_cuda_nvrtc_cu12-12.4.127-py3-none-manylinux2014_x86_64.whl (24.6 MB)\n",
      "\u001b[2K   \u001b[90m\u2501\u2501\u2501\u2501\u2501\u2501\u2501\u2501\u2501\u2501\u2501\u2501\u2501\u2501\u2501\u2501\u2501\u2501\u2501\u2501\u2501\u2501\u2501\u2501\u2501\u2501\u2501\u2501\u2501\u2501\u2501\u2501\u2501\u2501\u2501\u2501\u2501\u2501\u2501\u2501\u001b[0m \u001b[32m24.6/24.6 MB\u001b[0m \u001b[31m68.3 MB/s\u001b[0m eta \u001b[36m0:00:00\u001b[0m\n",
      "\u001b[?25hDownloading nvidia_cuda_runtime_cu12-12.4.127-py3-none-manylinux2014_x86_64.whl (883 kB)\n",
      "\u001b[2K   \u001b[90m\u2501\u2501\u2501\u2501\u2501\u2501\u2501\u2501\u2501\u2501\u2501\u2501\u2501\u2501\u2501\u2501\u2501\u2501\u2501\u2501\u2501\u2501\u2501\u2501\u2501\u2501\u2501\u2501\u2501\u2501\u2501\u2501\u2501\u2501\u2501\u2501\u2501\u2501\u2501\u2501\u001b[0m \u001b[32m883.7/883.7 kB\u001b[0m \u001b[31m64.6 MB/s\u001b[0m eta \u001b[36m0:00:00\u001b[0m\n",
      "\u001b[?25hDownloading nvidia_cudnn_cu12-9.1.0.70-py3-none-manylinux2014_x86_64.whl (664.8 MB)\n",
      "\u001b[2K   \u001b[90m\u2501\u2501\u2501\u2501\u2501\u2501\u2501\u2501\u2501\u2501\u2501\u2501\u2501\u2501\u2501\u2501\u2501\u2501\u2501\u2501\u2501\u2501\u2501\u2501\u2501\u2501\u2501\u2501\u2501\u2501\u2501\u2501\u2501\u2501\u2501\u2501\u2501\u2501\u2501\u2501\u001b[0m \u001b[32m664.8/664.8 MB\u001b[0m \u001b[31m2.0 MB/s\u001b[0m eta \u001b[36m0:00:00\u001b[0m\n",
      "\u001b[?25hDownloading nvidia_cufft_cu12-11.2.1.3-py3-none-manylinux2014_x86_64.whl (211.5 MB)\n",
      "\u001b[2K   \u001b[90m\u2501\u2501\u2501\u2501\u2501\u2501\u2501\u2501\u2501\u2501\u2501\u2501\u2501\u2501\u2501\u2501\u2501\u2501\u2501\u2501\u2501\u2501\u2501\u2501\u2501\u2501\u2501\u2501\u2501\u2501\u2501\u2501\u2501\u2501\u2501\u2501\u2501\u2501\u2501\u2501\u001b[0m \u001b[32m211.5/211.5 MB\u001b[0m \u001b[31m5.9 MB/s\u001b[0m eta \u001b[36m0:00:00\u001b[0m\n",
      "\u001b[?25hDownloading nvidia_curand_cu12-10.3.5.147-py3-none-manylinux2014_x86_64.whl (56.3 MB)\n",
      "\u001b[2K   \u001b[90m\u2501\u2501\u2501\u2501\u2501\u2501\u2501\u2501\u2501\u2501\u2501\u2501\u2501\u2501\u2501\u2501\u2501\u2501\u2501\u2501\u2501\u2501\u2501\u2501\u2501\u2501\u2501\u2501\u2501\u2501\u2501\u2501\u2501\u2501\u2501\u2501\u2501\u2501\u2501\u2501\u001b[0m \u001b[32m56.3/56.3 MB\u001b[0m \u001b[31m13.3 MB/s\u001b[0m eta \u001b[36m0:00:00\u001b[0m\n",
      "\u001b[?25hDownloading nvidia_cusolver_cu12-11.6.1.9-py3-none-manylinux2014_x86_64.whl (127.9 MB)\n",
      "\u001b[2K   \u001b[90m\u2501\u2501\u2501\u2501\u2501\u2501\u2501\u2501\u2501\u2501\u2501\u2501\u2501\u2501\u2501\u2501\u2501\u2501\u2501\u2501\u2501\u2501\u2501\u2501\u2501\u2501\u2501\u2501\u2501\u2501\u2501\u2501\u2501\u2501\u2501\u2501\u2501\u2501\u2501\u2501\u001b[0m \u001b[32m127.9/127.9 MB\u001b[0m \u001b[31m6.8 MB/s\u001b[0m eta \u001b[36m0:00:00\u001b[0m\n",
      "\u001b[?25hDownloading nvidia_cusparse_cu12-12.3.1.170-py3-none-manylinux2014_x86_64.whl (207.5 MB)\n",
      "\u001b[2K   \u001b[90m\u2501\u2501\u2501\u2501\u2501\u2501\u2501\u2501\u2501\u2501\u2501\u2501\u2501\u2501\u2501\u2501\u2501\u2501\u2501\u2501\u2501\u2501\u2501\u2501\u2501\u2501\u2501\u2501\u2501\u2501\u2501\u2501\u2501\u2501\u2501\u2501\u2501\u2501\u2501\u2501\u001b[0m \u001b[32m207.5/207.5 MB\u001b[0m \u001b[31m7.0 MB/s\u001b[0m eta \u001b[36m0:00:00\u001b[0m\n",
      "\u001b[?25hDownloading nvidia_nvjitlink_cu12-12.4.127-py3-none-manylinux2014_x86_64.whl (21.1 MB)\n",
      "\u001b[2K   \u001b[90m\u2501\u2501\u2501\u2501\u2501\u2501\u2501\u2501\u2501\u2501\u2501\u2501\u2501\u2501\u2501\u2501\u2501\u2501\u2501\u2501\u2501\u2501\u2501\u2501\u2501\u2501\u2501\u2501\u2501\u2501\u2501\u2501\u2501\u2501\u2501\u2501\u2501\u2501\u2501\u2501\u001b[0m \u001b[32m21.1/21.1 MB\u001b[0m \u001b[31m35.2 MB/s\u001b[0m eta \u001b[36m0:00:00\u001b[0m\n",
      "\u001b[?25hInstalling collected packages: nvidia-nvjitlink-cu12, nvidia-curand-cu12, nvidia-cufft-cu12, nvidia-cuda-runtime-cu12, nvidia-cuda-nvrtc-cu12, nvidia-cuda-cupti-cu12, nvidia-cublas-cu12, nvidia-cusparse-cu12, nvidia-cudnn-cu12, nvidia-cusolver-cu12\n",
      "  Attempting uninstall: nvidia-nvjitlink-cu12\n",
      "    Found existing installation: nvidia-nvjitlink-cu12 12.5.82\n",
      "    Uninstalling nvidia-nvjitlink-cu12-12.5.82:\n",
      "      Successfully uninstalled nvidia-nvjitlink-cu12-12.5.82\n",
      "  Attempting uninstall: nvidia-curand-cu12\n",
      "    Found existing installation: nvidia-curand-cu12 10.3.6.82\n",
      "    Uninstalling nvidia-curand-cu12-10.3.6.82:\n",
      "      Successfully uninstalled nvidia-curand-cu12-10.3.6.82\n",
      "  Attempting uninstall: nvidia-cufft-cu12\n",
      "    Found existing installation: nvidia-cufft-cu12 11.2.3.61\n",
      "    Uninstalling nvidia-cufft-cu12-11.2.3.61:\n",
      "      Successfully uninstalled nvidia-cufft-cu12-11.2.3.61\n",
      "  Attempting uninstall: nvidia-cuda-runtime-cu12\n",
      "    Found existing installation: nvidia-cuda-runtime-cu12 12.5.82\n",
      "    Uninstalling nvidia-cuda-runtime-cu12-12.5.82:\n",
      "      Successfully uninstalled nvidia-cuda-runtime-cu12-12.5.82\n",
      "  Attempting uninstall: nvidia-cuda-nvrtc-cu12\n",
      "    Found existing installation: nvidia-cuda-nvrtc-cu12 12.5.82\n",
      "    Uninstalling nvidia-cuda-nvrtc-cu12-12.5.82:\n",
      "      Successfully uninstalled nvidia-cuda-nvrtc-cu12-12.5.82\n",
      "  Attempting uninstall: nvidia-cuda-cupti-cu12\n",
      "    Found existing installation: nvidia-cuda-cupti-cu12 12.5.82\n",
      "    Uninstalling nvidia-cuda-cupti-cu12-12.5.82:\n",
      "      Successfully uninstalled nvidia-cuda-cupti-cu12-12.5.82\n",
      "  Attempting uninstall: nvidia-cublas-cu12\n",
      "    Found existing installation: nvidia-cublas-cu12 12.5.3.2\n",
      "    Uninstalling nvidia-cublas-cu12-12.5.3.2:\n",
      "      Successfully uninstalled nvidia-cublas-cu12-12.5.3.2\n",
      "  Attempting uninstall: nvidia-cusparse-cu12\n",
      "    Found existing installation: nvidia-cusparse-cu12 12.5.1.3\n",
      "    Uninstalling nvidia-cusparse-cu12-12.5.1.3:\n",
      "      Successfully uninstalled nvidia-cusparse-cu12-12.5.1.3\n",
      "  Attempting uninstall: nvidia-cudnn-cu12\n",
      "    Found existing installation: nvidia-cudnn-cu12 9.3.0.75\n",
      "    Uninstalling nvidia-cudnn-cu12-9.3.0.75:\n",
      "      Successfully uninstalled nvidia-cudnn-cu12-9.3.0.75\n",
      "  Attempting uninstall: nvidia-cusolver-cu12\n",
      "    Found existing installation: nvidia-cusolver-cu12 11.6.3.83\n",
      "    Uninstalling nvidia-cusolver-cu12-11.6.3.83:\n",
      "      Successfully uninstalled nvidia-cusolver-cu12-11.6.3.83\n",
      "Successfully installed nvidia-cublas-cu12-12.4.5.8 nvidia-cuda-cupti-cu12-12.4.127 nvidia-cuda-nvrtc-cu12-12.4.127 nvidia-cuda-runtime-cu12-12.4.127 nvidia-cudnn-cu12-9.1.0.70 nvidia-cufft-cu12-11.2.1.3 nvidia-curand-cu12-10.3.5.147 nvidia-cusolver-cu12-11.6.1.9 nvidia-cusparse-cu12-12.3.1.170 nvidia-nvjitlink-cu12-12.4.127\n",
      "Requirement already satisfied: datasets in /usr/local/lib/python3.11/dist-packages (2.14.4)\n",
      "Collecting datasets\n",
      "  Downloading datasets-3.6.0-py3-none-any.whl.metadata (19 kB)\n",
      "Requirement already satisfied: huggingface_hub in /usr/local/lib/python3.11/dist-packages (0.33.2)\n",
      "Requirement already satisfied: fsspec in /usr/local/lib/python3.11/dist-packages (2025.3.2)\n",
      "Collecting fsspec\n",
      "  Downloading fsspec-2025.5.1-py3-none-any.whl.metadata (11 kB)\n",
      "Requirement already satisfied: filelock in /usr/local/lib/python3.11/dist-packages (from datasets) (3.18.0)\n",
      "Requirement already satisfied: numpy>=1.17 in /usr/local/lib/python3.11/dist-packages (from datasets) (2.0.2)\n",
      "Requirement already satisfied: pyarrow>=15.0.0 in /usr/local/lib/python3.11/dist-packages (from datasets) (18.1.0)\n",
      "Requirement already satisfied: dill<0.3.9,>=0.3.0 in /usr/local/lib/python3.11/dist-packages (from datasets) (0.3.7)\n",
      "Requirement already satisfied: pandas in /usr/local/lib/python3.11/dist-packages (from datasets) (2.2.2)\n",
      "Requirement already satisfied: requests>=2.32.2 in /usr/local/lib/python3.11/dist-packages (from datasets) (2.32.3)\n",
      "Requirement already satisfied: tqdm>=4.66.3 in /usr/local/lib/python3.11/dist-packages (from datasets) (4.67.1)\n",
      "Requirement already satisfied: xxhash in /usr/local/lib/python3.11/dist-packages (from datasets) (3.5.0)\n",
      "Requirement already satisfied: multiprocess<0.70.17 in /usr/local/lib/python3.11/dist-packages (from datasets) (0.70.15)\n",
      "  Downloading fsspec-2025.3.0-py3-none-any.whl.metadata (11 kB)\n",
      "Requirement already satisfied: packaging in /usr/local/lib/python3.11/dist-packages (from datasets) (24.2)\n",
      "Requirement already satisfied: pyyaml>=5.1 in /usr/local/lib/python3.11/dist-packages (from datasets) (6.0.2)\n",
      "Requirement already satisfied: typing-extensions>=3.7.4.3 in /usr/local/lib/python3.11/dist-packages (from huggingface_hub) (4.14.0)\n",
      "Requirement already satisfied: hf-xet<2.0.0,>=1.1.2 in /usr/local/lib/python3.11/dist-packages (from huggingface_hub) (1.1.5)\n",
      "Requirement already satisfied: aiohttp!=4.0.0a0,!=4.0.0a1 in /usr/local/lib/python3.11/dist-packages (from fsspec[http]<=2025.3.0,>=2023.1.0->datasets) (3.11.15)\n",
      "Requirement already satisfied: charset-normalizer<4,>=2 in /usr/local/lib/python3.11/dist-packages (from requests>=2.32.2->datasets) (3.4.2)\n",
      "Requirement already satisfied: idna<4,>=2.5 in /usr/local/lib/python3.11/dist-packages (from requests>=2.32.2->datasets) (3.10)\n",
      "Requirement already satisfied: urllib3<3,>=1.21.1 in /usr/local/lib/python3.11/dist-packages (from requests>=2.32.2->datasets) (2.4.0)\n",
      "Requirement already satisfied: certifi>=2017.4.17 in /usr/local/lib/python3.11/dist-packages (from requests>=2.32.2->datasets) (2025.6.15)\n",
      "Requirement already satisfied: python-dateutil>=2.8.2 in /usr/local/lib/python3.11/dist-packages (from pandas->datasets) (2.9.0.post0)\n",
      "Requirement already satisfied: pytz>=2020.1 in /usr/local/lib/python3.11/dist-packages (from pandas->datasets) (2025.2)\n",
      "Requirement already satisfied: tzdata>=2022.7 in /usr/local/lib/python3.11/dist-packages (from pandas->datasets) (2025.2)\n",
      "Requirement already satisfied: aiohappyeyeballs>=2.3.0 in /usr/local/lib/python3.11/dist-packages (from aiohttp!=4.0.0a0,!=4.0.0a1->fsspec[http]<=2025.3.0,>=2023.1.0->datasets) (2.6.1)\n",
      "Requirement already satisfied: aiosignal>=1.1.2 in /usr/local/lib/python3.11/dist-packages (from aiohttp!=4.0.0a0,!=4.0.0a1->fsspec[http]<=2025.3.0,>=2023.1.0->datasets) (1.3.2)\n",
      "Requirement already satisfied: attrs>=17.3.0 in /usr/local/lib/python3.11/dist-packages (from aiohttp!=4.0.0a0,!=4.0.0a1->fsspec[http]<=2025.3.0,>=2023.1.0->datasets) (25.3.0)\n",
      "Requirement already satisfied: frozenlist>=1.1.1 in /usr/local/lib/python3.11/dist-packages (from aiohttp!=4.0.0a0,!=4.0.0a1->fsspec[http]<=2025.3.0,>=2023.1.0->datasets) (1.7.0)\n",
      "Requirement already satisfied: multidict<7.0,>=4.5 in /usr/local/lib/python3.11/dist-packages (from aiohttp!=4.0.0a0,!=4.0.0a1->fsspec[http]<=2025.3.0,>=2023.1.0->datasets) (6.6.3)\n",
      "Requirement already satisfied: propcache>=0.2.0 in /usr/local/lib/python3.11/dist-packages (from aiohttp!=4.0.0a0,!=4.0.0a1->fsspec[http]<=2025.3.0,>=2023.1.0->datasets) (0.3.2)\n",
      "Requirement already satisfied: yarl<2.0,>=1.17.0 in /usr/local/lib/python3.11/dist-packages (from aiohttp!=4.0.0a0,!=4.0.0a1->fsspec[http]<=2025.3.0,>=2023.1.0->datasets) (1.20.1)\n",
      "Requirement already satisfied: six>=1.5 in /usr/local/lib/python3.11/dist-packages (from python-dateutil>=2.8.2->pandas->datasets) (1.17.0)\n",
      "Downloading datasets-3.6.0-py3-none-any.whl (491 kB)\n",
      "\u001b[2K   \u001b[90m\u2501\u2501\u2501\u2501\u2501\u2501\u2501\u2501\u2501\u2501\u2501\u2501\u2501\u2501\u2501\u2501\u2501\u2501\u2501\u2501\u2501\u2501\u2501\u2501\u2501\u2501\u2501\u2501\u2501\u2501\u2501\u2501\u2501\u2501\u2501\u2501\u2501\u2501\u2501\u2501\u001b[0m \u001b[32m491.5/491.5 kB\u001b[0m \u001b[31m15.4 MB/s\u001b[0m eta \u001b[36m0:00:00\u001b[0m\n",
      "\u001b[?25hDownloading fsspec-2025.3.0-py3-none-any.whl (193 kB)\n",
      "\u001b[2K   \u001b[90m\u2501\u2501\u2501\u2501\u2501\u2501\u2501\u2501\u2501\u2501\u2501\u2501\u2501\u2501\u2501\u2501\u2501\u2501\u2501\u2501\u2501\u2501\u2501\u2501\u2501\u2501\u2501\u2501\u2501\u2501\u2501\u2501\u2501\u2501\u2501\u2501\u2501\u2501\u2501\u2501\u001b[0m \u001b[32m193.6/193.6 kB\u001b[0m \u001b[31m20.9 MB/s\u001b[0m eta \u001b[36m0:00:00\u001b[0m\n",
      "\u001b[?25hInstalling collected packages: fsspec, datasets\n",
      "  Attempting uninstall: fsspec\n",
      "    Found existing installation: fsspec 2025.3.2\n",
      "    Uninstalling fsspec-2025.3.2:\n",
      "      Successfully uninstalled fsspec-2025.3.2\n",
      "  Attempting uninstall: datasets\n",
      "    Found existing installation: datasets 2.14.4\n",
      "    Uninstalling datasets-2.14.4:\n",
      "      Successfully uninstalled datasets-2.14.4\n",
      "\u001b[31mERROR: pip's dependency resolver does not currently take into account all the packages that are installed. This behaviour is the source of the following dependency conflicts.\n",
      "gcsfs 2025.3.2 requires fsspec==2025.3.2, but you have fsspec 2025.3.0 which is incompatible.\u001b[0m\u001b[31m\n",
      "\u001b[0mSuccessfully installed datasets-3.6.0 fsspec-2025.3.0\n"
     ]
    }
   ],
   "source": [
    "!pip install transformers datasets accelerate\n",
    "!pip install -U datasets huggingface_hub fsspec"
   ]
  },
  {
   "cell_type": "markdown",
   "source": [
    "#Loading Dataset"
   ],
   "metadata": {
    "id": "bokBuhP2JwG7"
   }
  },
  {
   "cell_type": "code",
   "source": [
    "from transformers import GPT2Tokenizer, GPT2LMHeadModel, Trainer, TrainingArguments, DataCollatorForLanguageModeling\n",
    "from datasets import load_dataset\n",
    "import torch\n",
    "\n",
    "dataset = load_dataset(\"wikitext\", \"wikitext-2-raw-v1\")"
   ],
   "metadata": {
    "colab": {
     "base_uri": "https://localhost:8080/",
     "height": 365,
     "referenced_widgets": [
      "485fab80afd54ee6bab7ab3c1dfcac93",
      "f51b3dabb5b34c3eaee45fbb282e533e",
      "ae96420ca836435bbe67e651cc79a94d",
      "543ece47500b410e92b228ab45f644ed",
      "979ca77454194dd482478a5184d87563",
      "4f9af1d7857c4fa1bd069d9a175e97a2",
      "2cb341324bde491b91a414cad9ee0c95",
      "dc0cde5d86974c68a977ecbf5934f31c",
      "c34b84096291450388ecd6d9193dc2c9",
      "c2c63f2b0f784a2491cb68d0e6feb6bd",
      "96c044aa29d546ed98be657ba51a5138",
      "d1a912f5d8e74852971002ca2145e519",
      "d6911c39abcd4c8aad4f827d1b48e8d0",
      "23e4e49ccf6143059ad13eeb2c9e35ac",
      "986157b08fb24c8aa3ebc964f122f949",
      "4d3a3e576bf44549952956d00f4fb8cd",
      "61ad10a4f1ee41779879491ca0ce4b1e",
      "d95756a62c084a2f9b18577012076bfc",
      "f165043c422f4f7086f9ed17c8d17940",
      "0709cb123aa84d09a537653593c1c547",
      "327fd3ef9fd947e6b765635263c7fefc",
      "d032e02e09c04acd9268bc74a484d755",
      "28607c6068c1427097bb2c6454ae1956",
      "7d57a7b8f1a34a82992cf85e7422464f",
      "cf9fc260d4c04302aeb7c828c0cea1cc",
      "8ab2459fef0a45a997e3d1e3c952af8e",
      "0b43232383cf4e4d896fc2a59eb68e58",
      "da1b7c348d8545f3b7579b80a08c2f9a",
      "562fc0ee780d40bebea8a0b062ddba12",
      "03f897cf83134978b6ec122c174cba2d",
      "e1d341888a1741d7b27903d3b7ac34f7",
      "f346b5d96d054634b57396c86359ef79",
      "6160a0211a1845b8a04668e353a15e62",
      "d51768f56da0425c90980d2e1fa70849",
      "e5e98ac18087446d8fd98fb65d742fed",
      "a138603fd9154f74a0798d0e2fc2ac14",
      "4c8861403d844066b5b90b5aa8339207",
      "ef858fd355e84ab987015e4b7a06c4bf",
      "d2056d808c6b409eb4efcb4e8be27518",
      "2e9e0bcb2cae439bbe464f9891d9dda5",
      "c0370738879740f7a39db48fc211c9cd",
      "b7749d6fad6e4162b69809c1ff7edf56",
      "a9088c2235a44020a3f388401e1e517d",
      "44b9e3d2ffa446f09df99dcf26d8b053",
      "f381ab1471154d0e8d356d549d431e8f",
      "b28326e2966d4d7eb52ecd71f5342594",
      "3d6f7667819e4f70889fc2e94a43c887",
      "85e6740bffec4316b0f7860b0dfc275e",
      "32c25e23c2334d6582731bd27cf529bb",
      "ad1f53c5c85c4165ad835583aa91c40e",
      "a3a25e6cf64d4ccbae765310095bccf9",
      "ad1031feb7b04e26a6394e2c138f2fd3",
      "4819317820184c8aa2befdfe9b888123",
      "c118a1d3f9484857b982daa3b39a3fec",
      "a858b1757878403a95a5e65f03e71ec5",
      "f22d06748fc2424181535e5af4fbe09c",
      "2e4f9437c91c4d58845fd54586bb8da3",
      "f2e68cabbe9a4a909cc6e1ffc0e801a1",
      "038fbd147d3c4379b154e5f97fecb3c0",
      "8a37e503fd114ece809cfd4aeb48b673",
      "66febef799124e3ca566550d40dfcdc4",
      "5c361bdedc4848ac80b2e8efce698785",
      "842dd57db76f4f2a883d37d98ba2b145",
      "b4b806564f0449b7937460feff1af647",
      "2abf4985ff484f3e8401259fb1cc26a9",
      "3d32aaaf210544c28e83161c36c9371a",
      "7bbbb5a683734ef68b5955597d804435",
      "28ed382dc0ec47c0839c81bc72068a6a",
      "70384519dd4342eda49a02eabe36b309",
      "30f84c1a3ecb4d80924cf7b113474f1f",
      "ac656a68c8e343edb22c8491f158a4ee",
      "2c4e8d8f20b545da96a63bc09d3f27db",
      "08c64d18b4aa48cc8a3d5fb3a214ac4d",
      "3bba3529895045269e4676cca34b2514",
      "d1c4a72b7c40403ea7122b7c118d7f9c",
      "c4cf6bbfc4ca48c3a98e65c1c82b2ace",
      "4d48276bec2743a28c73592a80224db8"
     ]
    },
    "id": "-TPbLf1hJxUi",
    "executionInfo": {
     "status": "ok",
     "timestamp": 1752064192388,
     "user_tz": -330,
     "elapsed": 59957,
     "user": {
      "displayName": "Madhur Sonkar",
      "userId": "16646029765374333998"
     }
    },
    "outputId": "d7392839-3370-4b4e-bac8-f3731c8c9652"
   },
   "execution_count": 2,
   "outputs": [
    {
     "output_type": "stream",
     "name": "stderr",
     "text": [
      "/usr/local/lib/python3.11/dist-packages/huggingface_hub/utils/_auth.py:94: UserWarning: \n",
      "The secret `HF_TOKEN` does not exist in your Colab secrets.\n",
      "To authenticate with the Hugging Face Hub, create a token in your settings tab (https://huggingface.co/settings/tokens), set it as secret in your Google Colab and restart your session.\n",
      "You will be able to reuse this secret in all of your notebooks.\n",
      "Please note that authentication is recommended but still optional to access public models or datasets.\n",
      "  warnings.warn(\n"
     ]
    },
    {
     "output_type": "display_data",
     "data": {
      "text/plain": [
       "README.md: 0.00B [00:00, ?B/s]"
      ],
      "application/vnd.jupyter.widget-view+json": {
       "version_major": 2,
       "version_minor": 0,
       "model_id": "485fab80afd54ee6bab7ab3c1dfcac93"
      }
     },
     "metadata": {}
    },
    {
     "output_type": "display_data",
     "data": {
      "text/plain": [
       "test-00000-of-00001.parquet:   0%|          | 0.00/733k [00:00<?, ?B/s]"
      ],
      "application/vnd.jupyter.widget-view+json": {
       "version_major": 2,
       "version_minor": 0,
       "model_id": "d1a912f5d8e74852971002ca2145e519"
      }
     },
     "metadata": {}
    },
    {
     "output_type": "display_data",
     "data": {
      "text/plain": [
       "train-00000-of-00001.parquet:   0%|          | 0.00/6.36M [00:00<?, ?B/s]"
      ],
      "application/vnd.jupyter.widget-view+json": {
       "version_major": 2,
       "version_minor": 0,
       "model_id": "28607c6068c1427097bb2c6454ae1956"
      }
     },
     "metadata": {}
    },
    {
     "output_type": "display_data",
     "data": {
      "text/plain": [
       "validation-00000-of-00001.parquet:   0%|          | 0.00/657k [00:00<?, ?B/s]"
      ],
      "application/vnd.jupyter.widget-view+json": {
       "version_major": 2,
       "version_minor": 0,
       "model_id": "d51768f56da0425c90980d2e1fa70849"
      }
     },
     "metadata": {}
    },
    {
     "output_type": "display_data",
     "data": {
      "text/plain": [
       "Generating test split:   0%|          | 0/4358 [00:00<?, ? examples/s]"
      ],
      "application/vnd.jupyter.widget-view+json": {
       "version_major": 2,
       "version_minor": 0,
       "model_id": "f381ab1471154d0e8d356d549d431e8f"
      }
     },
     "metadata": {}
    },
    {
     "output_type": "display_data",
     "data": {
      "text/plain": [
       "Generating train split:   0%|          | 0/36718 [00:00<?, ? examples/s]"
      ],
      "application/vnd.jupyter.widget-view+json": {
       "version_major": 2,
       "version_minor": 0,
       "model_id": "f22d06748fc2424181535e5af4fbe09c"
      }
     },
     "metadata": {}
    },
    {
     "output_type": "display_data",
     "data": {
      "text/plain": [
       "Generating validation split:   0%|          | 0/3760 [00:00<?, ? examples/s]"
      ],
      "application/vnd.jupyter.widget-view+json": {
       "version_major": 2,
       "version_minor": 0,
       "model_id": "7bbbb5a683734ef68b5955597d804435"
      }
     },
     "metadata": {}
    }
   ]
  },
  {
   "cell_type": "markdown",
   "source": [
    "#Tokenizing and Training"
   ],
   "metadata": {
    "id": "mt2L6-WQJ2ep"
   }
  },
  {
   "cell_type": "code",
   "source": [
    "model_name = \"gpt2-medium\"\n",
    "tokenizer = GPT2Tokenizer.from_pretrained(model_name)\n",
    "model = GPT2LMHeadModel.from_pretrained(model_name)\n",
    "\n",
    "tokenizer.pad_token = tokenizer.eos_token\n",
    "model.config.pad_token_id = tokenizer.pad_token_id\n",
    "\n",
    "device = torch.device(\"cuda\" if torch.cuda.is_available() else \"cpu\")\n",
    "model.to(device)\n",
    "\n",
    "def tokenize_function(examples):\n",
    "    tokens = tokenizer(\n",
    "        examples[\"text\"],\n",
    "        padding=\"max_length\",\n",
    "        truncation=True,\n",
    "        max_length=128\n",
    "    )\n",
    "    tokens[\"input_ids\"] = [list(map(int, ids)) for ids in tokens[\"input_ids\"]]\n",
    "    tokens[\"attention_mask\"] = [list(map(int, mask)) for mask in tokens[\"attention_mask\"]]\n",
    "    return tokens\n",
    "\n",
    "tokenized = dataset.map(tokenize_function, batched=True, remove_columns=[\"text\"])\n",
    "\n",
    "def filter_empty(example):\n",
    "    return any(tok != tokenizer.pad_token_id for tok in example[\"input_ids\"])\n",
    "\n",
    "tokenized = tokenized.filter(filter_empty)\n",
    "\n",
    "data_collator = DataCollatorForLanguageModeling(tokenizer=tokenizer, mlm=False)\n",
    "\n",
    "training_args = TrainingArguments(\n",
    "    output_dir=\"./results\",\n",
    "    overwrite_output_dir=True,\n",
    "    num_train_epochs=3,\n",
    "    per_device_train_batch_size=8,\n",
    "    gradient_accumulation_steps=8,\n",
    "    learning_rate=2e-5,\n",
    "    weight_decay=0.01,\n",
    "    eval_strategy=\"epoch\",\n",
    "    save_strategy=\"epoch\",\n",
    "    logging_steps=100,\n",
    "    save_total_limit=2,\n",
    "    fp16=torch.cuda.is_available(),\n",
    "    remove_unused_columns=False,\n",
    "    report_to=\"none\"\n",
    ")\n",
    "\n",
    "trainer = Trainer(\n",
    "    model=model,\n",
    "    args=training_args,\n",
    "    train_dataset=tokenized[\"train\"],\n",
    "    eval_dataset=tokenized[\"validation\"],\n",
    "    tokenizer=tokenizer,\n",
    "    data_collator=data_collator\n",
    ")\n",
    "\n",
    "trainer.train()\n",
    "\n",
    "trainer.save_model(\"./results\")\n",
    "tokenizer.save_pretrained(\"./results\")"
   ],
   "metadata": {
    "colab": {
     "base_uri": "https://localhost:8080/",
     "height": 724,
     "referenced_widgets": [
      "c6e797774270456cb31f6770be6798e8",
      "74eca946fdb845c0b169a89e044406c6",
      "b927670f2bbe4c70acb76339ef80c5bb",
      "64130db804434ea49a5a5ee665ef321b",
      "50f95080e8e64bddbc14b5fdf3602fb5",
      "4a65c3833d2647fa9a8e2cb554b8babf",
      "1e3329b2cc2c440bbd60f96e7aac4b42",
      "c7bb2aad8ab842f08fc90b8ad94169e9",
      "76b214ed4adf4984aa88a802f862086f",
      "e5790af47c294dbc8071efa2ac65918d",
      "dfc4bc0f2fbc4c00a217e0aee4203745",
      "6a1aff9348644cfba84f3d96711be322",
      "2ef534f14748451d82ddbb48830175a9",
      "4ce526e125fd4d339928759b24864d44",
      "fc9e2447c4704eb181901b225c7e7168",
      "5912cca101454b78ae8afccb1f32e77a",
      "4b365f4d8f16431db33edef1e60b4373",
      "7208e9b765d24563ba00cdfe372c3be2",
      "115d08cb8e7640e4bd8aa3b4e8a295d0",
      "70cb6c6a7df64bb4b3852489289b5942",
      "3a4868cc091b4bd08305a11eca089887",
      "5159c453f4a54fe4a23fa0d344655253",
      "5b099afc703c47518582921705166824",
      "a06ebfee3458416d817209440201e02b",
      "ceb4683bd91e474bb94f826038063565",
      "acd81cb1a8c04fceaac54516659e9d73",
      "c7ab5ff59b154b41a8e0e9107f63bd93",
      "41763c4bd6df4a41bdeddbd26271074c",
      "0ba08d3e283a4006a53e46f3c1a2553b",
      "9aeece68bedd418c962b474bd5fa6b64",
      "d011760c0e3342b690c935ae7c2a3225",
      "f8ff899b79e5417db1f9ce0906f80422",
      "eab2849dd88b4a9bbe0325833677d675",
      "80f1890eb0394e2486149848a428e2a7",
      "0b35aaa9aa5f447ca6a22761c956a877",
      "ba363cda34d54238995229c7ce31b536",
      "7bb4648f4bde4adbb1384ae51a605cc5",
      "d66df27d58d94b44b3c65aad46813cd2",
      "c141bdde9caf48148ea12a6959077d75",
      "d5229908a56b40cd8b1fac7e32264d23",
      "f45f8c74827e4c65be1f76473e1d6a03",
      "06df85434f98416fa48f786d523aa494",
      "5a0dc74602444023982841ebceb49e72",
      "ae778db6a77a45faa2ca521994264542",
      "139f955aa97041ecbfb9b5e186ccfb2e",
      "97170ac412b2424e9cf69a0c39e80751",
      "de0dc51534394f80b2ed40ac6e2a9481",
      "582e60c3a72a4e21bc27a380c532910c",
      "73c95a10510b45b08e4576985d868761",
      "e5c2d000159b4b7cbcdac34d776b8cd9",
      "b0d32768c309456abcb8547a55ca7711",
      "1954cfd4f2004537bf0ab0d77c45f9e6",
      "d255b8a156b54170938ca3fc6365444c",
      "9ac611e7e9aa4d5193252ce7dbfc9806",
      "6bc7057db0c54ac2b7afde5029f562a8",
      "46c46ce60f1c458c8d4891aa19c2e722",
      "4350964779574202b77443d68ea15790",
      "8ef5390473634d22b6cb09883c3b4253",
      "07f7c85096af4cb4987b3a4d15dc576b",
      "cc16cb6b938344d49b476b5b8109cbb7",
      "1cdfa94c67e54eb59ff39b88bd80372f",
      "b7088201d0d14c3b8a9108d389b2c58c",
      "737a5c72fac2422991c78ba2fd737efe",
      "74b5939c16b04891baee0f04480e873e",
      "b117954864d84d0e8c00639ad9b7781a",
      "5c51c2d6a3c442f4964da81d0914132d",
      "d79ef5928adb427095af76070c08381b",
      "2f28afaefafa400594915d8c8524375d",
      "e1232bdb6b954151a9f0faa90c86abee",
      "631f293d762343fcb92e7dab5a56c91e",
      "a2e8d19311544c629c17e62e83435a2b",
      "8773b8ec167541ab9acf4d85f0bb6740",
      "6efd9517ae3f4657be60e53ee234674a",
      "b70d05d37dc24eb88c151db7f4917d03",
      "1d0d1e56f14b4a94a1b51d32f88b49d7",
      "1e2a013f23584d03878da343d5bf4313",
      "d0387db64b79446aa8f8c1a82d515d16",
      "5049376a4b204b8eace4fe35e319459c",
      "f962da8a4e874d06b1fa0c2cf6589d2b",
      "ac04e6dfbcc746daaa5d0edc3141c374",
      "c557146fd9f043d7ab043ae45e2e4a4e",
      "a375f9948bdc4b8097ec877daa0ec8d8",
      "3a45552aa0b44ad4981080941a6a1ff3",
      "34aebdd6e1c64737b42994d8f4183917",
      "90af91f9afd44ccebfa6914de4a5e46a",
      "ce23e8bbb5d446f3aa0e25e9830e43d6",
      "f958b204b6ab4121ae6b99d63c7f6f73",
      "854e94a4630d4627a4edb5f42a62a93c",
      "f9e7d65b6fe44a408977593e7eab145b",
      "1ea4aa4524a94deb8b6d5daebb415b6e",
      "0cd3a1cfe6cd4c3b8647440a53bdad15",
      "44c5905e1da446be9f4f5a66e0b8c126",
      "1c31e1ad12774a7d8bc1c2f72cee97fa",
      "e0677303f0254df1a5a5cf5fe653dfd7",
      "3ec7bf16085a4f01ad455e4709d17243",
      "dcd016675005436fa677731718f61dba",
      "2d77623b7dd345cbaa979e44d07949c4",
      "3485259add21411fafe060c525ab8b64",
      "23588398d7e34f83a7560e5b5835f2b1",
      "dbc26cf79ebd48d6bcaa86c35ae06eda",
      "cd250844decb45ca84da1568468d4607",
      "489d366a6ca64760abc790828bfd3922",
      "92db7bd5830b499096b2055212eaee04",
      "be585a8ee75b476db248252802293d4b",
      "8eac5229edbd4ba8b26bf3fb2af1cdfa",
      "fa75632128964bd9bf55623a9868fd8e",
      "354e356774d84b14b703b5fe455696ab",
      "cd53a3f0b7c9434b82500e76ab4d0e8c",
      "dab3ec266fef430bb3a90c5ab3c4956c",
      "29010b01aa214f7682dc0f50cdeaea17",
      "4ea5617207e8492aafae4d2a22604937",
      "69b45f8ecaaa4ffc8d95d937bbd82897",
      "55c55f6f510b401e97c3799a626b3f3a",
      "f4fc2488ddcb42bca8ae3224ca795987",
      "79b7a6565ddb4a3e9efc4d9c399945b0",
      "2cb5bee7b9ed45bb82d853eb4fba0fe8",
      "2c72aff6f996460ea8f805d7df299a97",
      "17975bdcd8d24094b9ff525d3c12e7a8",
      "aa68ab52f02d4edcb253fafed2af01de",
      "76d3d352bf3645cea8086cd6ea32152b",
      "f29b7c59919146769b0beb76f8cd0f52",
      "9e613d9bbff74356b333aaafb7913e77",
      "db1dad026f474e929bc4446b77de5384",
      "2f79e3988fde40829befa5f847f4d9b7",
      "1fa28b63273b4377ab7db01fecc76d9e",
      "8f2dba8b17c741f09ecd06d03affd069",
      "90eb4d5e718c41c8b415840089716d2d",
      "7cea1d74b270430abf65d22ad405fa9c",
      "ef9364cfb81e4c54b8e8c2c10f0000a7",
      "9231f9d2f5d940c7ace3cede82e1aee5",
      "0c39389164224ede844b916ce46a613c",
      "bb030088cd7d4803b51f6855b5fef462",
      "4b3d020422f745109ec3a8fd6cc31176",
      "2d584e4bac21482195f4e3f51a99639b",
      "f615fa94bee649ba8e1ba9339a6143f5",
      "96d9edb94eb54687a89d0dccf5b5ffb8",
      "884d94b4c17e45288fa7dc570895f10d",
      "61c7c60ea111430cba14b65f79890dff",
      "38ea4ab0c0104071bb5dc52f5aac2c68",
      "bce4845d05b94bf18784892cf023406e",
      "5b0b336f99124154a9ee1b61b09c6e88",
      "35bdccd177a74e2099a71e7b06c69095",
      "96a51376a470438685d1095f3d2b30f5"
     ]
    },
    "id": "CbNkr-srJ4HO",
    "executionInfo": {
     "status": "ok",
     "timestamp": 1752067037280,
     "user_tz": -330,
     "elapsed": 2836429,
     "user": {
      "displayName": "Madhur Sonkar",
      "userId": "16646029765374333998"
     }
    },
    "outputId": "d00772bd-aea0-4ebf-f7e6-ee4329c9a787"
   },
   "execution_count": 3,
   "outputs": [
    {
     "output_type": "display_data",
     "data": {
      "text/plain": [
       "tokenizer_config.json:   0%|          | 0.00/26.0 [00:00<?, ?B/s]"
      ],
      "application/vnd.jupyter.widget-view+json": {
       "version_major": 2,
       "version_minor": 0,
       "model_id": "c6e797774270456cb31f6770be6798e8"
      }
     },
     "metadata": {}
    },
    {
     "output_type": "display_data",
     "data": {
      "text/plain": [
       "vocab.json:   0%|          | 0.00/1.04M [00:00<?, ?B/s]"
      ],
      "application/vnd.jupyter.widget-view+json": {
       "version_major": 2,
       "version_minor": 0,
       "model_id": "6a1aff9348644cfba84f3d96711be322"
      }
     },
     "metadata": {}
    },
    {
     "output_type": "display_data",
     "data": {
      "text/plain": [
       "merges.txt:   0%|          | 0.00/456k [00:00<?, ?B/s]"
      ],
      "application/vnd.jupyter.widget-view+json": {
       "version_major": 2,
       "version_minor": 0,
       "model_id": "5b099afc703c47518582921705166824"
      }
     },
     "metadata": {}
    },
    {
     "output_type": "display_data",
     "data": {
      "text/plain": [
       "tokenizer.json:   0%|          | 0.00/1.36M [00:00<?, ?B/s]"
      ],
      "application/vnd.jupyter.widget-view+json": {
       "version_major": 2,
       "version_minor": 0,
       "model_id": "80f1890eb0394e2486149848a428e2a7"
      }
     },
     "metadata": {}
    },
    {
     "output_type": "display_data",
     "data": {
      "text/plain": [
       "config.json:   0%|          | 0.00/718 [00:00<?, ?B/s]"
      ],
      "application/vnd.jupyter.widget-view+json": {
       "version_major": 2,
       "version_minor": 0,
       "model_id": "139f955aa97041ecbfb9b5e186ccfb2e"
      }
     },
     "metadata": {}
    },
    {
     "output_type": "display_data",
     "data": {
      "text/plain": [
       "model.safetensors:   0%|          | 0.00/1.52G [00:00<?, ?B/s]"
      ],
      "application/vnd.jupyter.widget-view+json": {
       "version_major": 2,
       "version_minor": 0,
       "model_id": "46c46ce60f1c458c8d4891aa19c2e722"
      }
     },
     "metadata": {}
    },
    {
     "output_type": "display_data",
     "data": {
      "text/plain": [
       "generation_config.json:   0%|          | 0.00/124 [00:00<?, ?B/s]"
      ],
      "application/vnd.jupyter.widget-view+json": {
       "version_major": 2,
       "version_minor": 0,
       "model_id": "d79ef5928adb427095af76070c08381b"
      }
     },
     "metadata": {}
    },
    {
     "output_type": "display_data",
     "data": {
      "text/plain": [
       "Map:   0%|          | 0/4358 [00:00<?, ? examples/s]"
      ],
      "application/vnd.jupyter.widget-view+json": {
       "version_major": 2,
       "version_minor": 0,
       "model_id": "5049376a4b204b8eace4fe35e319459c"
      }
     },
     "metadata": {}
    },
    {
     "output_type": "display_data",
     "data": {
      "text/plain": [
       "Map:   0%|          | 0/36718 [00:00<?, ? examples/s]"
      ],
      "application/vnd.jupyter.widget-view+json": {
       "version_major": 2,
       "version_minor": 0,
       "model_id": "f9e7d65b6fe44a408977593e7eab145b"
      }
     },
     "metadata": {}
    },
    {
     "output_type": "display_data",
     "data": {
      "text/plain": [
       "Map:   0%|          | 0/3760 [00:00<?, ? examples/s]"
      ],
      "application/vnd.jupyter.widget-view+json": {
       "version_major": 2,
       "version_minor": 0,
       "model_id": "dbc26cf79ebd48d6bcaa86c35ae06eda"
      }
     },
     "metadata": {}
    },
    {
     "output_type": "display_data",
     "data": {
      "text/plain": [
       "Filter:   0%|          | 0/4358 [00:00<?, ? examples/s]"
      ],
      "application/vnd.jupyter.widget-view+json": {
       "version_major": 2,
       "version_minor": 0,
       "model_id": "4ea5617207e8492aafae4d2a22604937"
      }
     },
     "metadata": {}
    },
    {
     "output_type": "display_data",
     "data": {
      "text/plain": [
       "Filter:   0%|          | 0/36718 [00:00<?, ? examples/s]"
      ],
      "application/vnd.jupyter.widget-view+json": {
       "version_major": 2,
       "version_minor": 0,
       "model_id": "9e613d9bbff74356b333aaafb7913e77"
      }
     },
     "metadata": {}
    },
    {
     "output_type": "display_data",
     "data": {
      "text/plain": [
       "Filter:   0%|          | 0/3760 [00:00<?, ? examples/s]"
      ],
      "application/vnd.jupyter.widget-view+json": {
       "version_major": 2,
       "version_minor": 0,
       "model_id": "4b3d020422f745109ec3a8fd6cc31176"
      }
     },
     "metadata": {}
    },
    {
     "output_type": "stream",
     "name": "stderr",
     "text": [
      "/tmp/ipython-input-3-3921379601.py:48: FutureWarning: `tokenizer` is deprecated and will be removed in version 5.0.0 for `Trainer.__init__`. Use `processing_class` instead.\n",
      "  trainer = Trainer(\n",
      "`loss_type=None` was set in the config but it is unrecognised.Using the default loss: `ForCausalLMLoss`.\n"
     ]
    },
    {
     "output_type": "display_data",
     "data": {
      "text/plain": [
       "<IPython.core.display.HTML object>"
      ],
      "text/html": [
       "\n",
       "    <div>\n",
       "      \n",
       "      <progress value='1116' max='1116' style='width:300px; height:20px; vertical-align: middle;'></progress>\n",
       "      [1116/1116 45:28, Epoch 3/3]\n",
       "    </div>\n",
       "    <table border=\"1\" class=\"dataframe\">\n",
       "  <thead>\n",
       " <tr style=\"text-align: left;\">\n",
       "      <th>Epoch</th>\n",
       "      <th>Training Loss</th>\n",
       "      <th>Validation Loss</th>\n",
       "    </tr>\n",
       "  </thead>\n",
       "  <tbody>\n",
       "    <tr>\n",
       "      <td>1</td>\n",
       "      <td>3.133400</td>\n",
       "      <td>3.158055</td>\n",
       "    </tr>\n",
       "    <tr>\n",
       "      <td>2</td>\n",
       "      <td>2.999600</td>\n",
       "      <td>3.140224</td>\n",
       "    </tr>\n",
       "    <tr>\n",
       "      <td>3</td>\n",
       "      <td>2.949600</td>\n",
       "      <td>3.138185</td>\n",
       "    </tr>\n",
       "  </tbody>\n",
       "</table><p>"
      ]
     },
     "metadata": {}
    },
    {
     "output_type": "execute_result",
     "data": {
      "text/plain": [
       "('./results/tokenizer_config.json',\n",
       " './results/special_tokens_map.json',\n",
       " './results/vocab.json',\n",
       " './results/merges.txt',\n",
       " './results/added_tokens.json')"
      ]
     },
     "metadata": {},
     "execution_count": 3
    }
   ]
  },
  {
   "cell_type": "markdown",
   "source": [
    "#Evaluating the model"
   ],
   "metadata": {
    "id": "44kAQU5vKiaJ"
   }
  },
  {
   "cell_type": "code",
   "source": [
    "import torch\n",
    "from transformers import GPT2Tokenizer, GPT2LMHeadModel\n",
    "\n",
    "model_path = \"./results\"\n",
    "tokenizer = GPT2Tokenizer.from_pretrained(model_path)\n",
    "model = GPT2LMHeadModel.from_pretrained(model_path).eval()\n",
    "\n",
    "device = torch.device(\"cuda\" if torch.cuda.is_available() else \"cpu\")\n",
    "model.to(device)\n",
    "\n",
    "def predict_next_word(prompt, top_k=5):\n",
    "    input_ids = tokenizer.encode(prompt, return_tensors=\"pt\").to(device)\n",
    "\n",
    "    with torch.no_grad():\n",
    "        outputs = model(input_ids)\n",
    "        next_token_logits = outputs.logits[0, -1, :]\n",
    "\n",
    "    top_k_probs, top_k_indices = torch.topk(next_token_logits, top_k)\n",
    "    top_k_tokens = [tokenizer.decode([token_id]).strip() for token_id in top_k_indices]\n",
    "\n",
    "    print(f\"\\nPrompt: {prompt}\")\n",
    "    print(f\"Top-{top_k} Next Token Predictions:\")\n",
    "    for i, (token, score) in enumerate(zip(top_k_tokens, top_k_probs.tolist()), 1):\n",
    "        print(f\"{i}. {token} (logit: {score:.2f})\")\n",
    "\n",
    "predict_next_word(\"The sky is\")\n",
    "predict_next_word(\"Artificial intelligence will\")\n",
    "predict_next_word(\"He opened the\")\n"
   ],
   "metadata": {
    "colab": {
     "base_uri": "https://localhost:8080/"
    },
    "id": "4tlNb3aqKg7z",
    "executionInfo": {
     "status": "ok",
     "timestamp": 1752067039035,
     "user_tz": -330,
     "elapsed": 1424,
     "user": {
      "displayName": "Madhur Sonkar",
      "userId": "16646029765374333998"
     }
    },
    "outputId": "6d5c776f-bcc6-44ea-81fa-14a911a03bef"
   },
   "execution_count": 4,
   "outputs": [
    {
     "output_type": "stream",
     "name": "stdout",
     "text": [
      "\n",
      "Prompt: The sky is\n",
      "Top-5 Next Token Predictions:\n",
      "1. blue (logit: -79.88)\n",
      "2. a (logit: -80.43)\n",
      "3. the (logit: -80.71)\n",
      "4. full (logit: -81.53)\n",
      "5. dark (logit: -81.60)\n",
      "\n",
      "Prompt: Artificial intelligence will\n",
      "Top-5 Next Token Predictions:\n",
      "1. be (logit: -112.05)\n",
      "2. become (logit: -113.63)\n",
      "3. not (logit: -113.95)\n",
      "4. have (logit: -113.98)\n",
      "5. also (logit: -114.20)\n",
      "\n",
      "Prompt: He opened the\n",
      "Top-5 Next Token Predictions:\n",
      "1. door (logit: -105.59)\n",
      "2. scoring (logit: -105.60)\n",
      "3. season (logit: -106.18)\n",
      "4. game (logit: -107.05)\n",
      "5. match (logit: -107.21)\n"
     ]
    }
   ]
  },
  {
   "cell_type": "code",
   "source": [
    "from transformers import GPT2Tokenizer, GPT2LMHeadModel\n",
    "from datasets import load_dataset\n",
    "import torch\n",
    "from tqdm import tqdm\n",
    "\n",
    "model_path = \"./results\"\n",
    "tokenizer = GPT2Tokenizer.from_pretrained(model_path)\n",
    "model = GPT2LMHeadModel.from_pretrained(model_path).eval()\n",
    "\n",
    "device = torch.device(\"cuda\" if torch.cuda.is_available() else \"cpu\")\n",
    "model.to(device)\n",
    "\n",
    "raw_dataset = load_dataset(\"wikitext\", \"wikitext-2-raw-v1\", split=\"validation\")\n",
    "\n",
    "def evaluate_top_k(model, dataset, tokenizer, k=5, max_samples=1000, max_length=128):\n",
    "    topk_correct = 0\n",
    "    total = 0\n",
    "\n",
    "    for example in tqdm(dataset.select(range(min(max_samples, len(dataset))))):\n",
    "        text = example[\"text\"].strip()\n",
    "        if not text:\n",
    "            continue\n",
    "\n",
    "        tokens = tokenizer(\n",
    "            text,\n",
    "            padding=\"max_length\",\n",
    "            truncation=True,\n",
    "            max_length=max_length,\n",
    "            return_tensors=\"pt\"\n",
    "        )\n",
    "        input_ids = tokens[\"input_ids\"].squeeze(0).to(device)\n",
    "        attention_mask = tokens[\"attention_mask\"].squeeze(0).to(device)\n",
    "\n",
    "        if input_ids.size(0) < 2:\n",
    "            continue\n",
    "\n",
    "        with torch.no_grad():\n",
    "            outputs = model(input_ids=input_ids[:-1].unsqueeze(0), attention_mask=attention_mask[:-1].unsqueeze(0))\n",
    "            logits = outputs.logits.squeeze(0)\n",
    "\n",
    "        for i in range(len(input_ids) - 1):\n",
    "            next_token = input_ids[i + 1].item()\n",
    "            top_k_preds = torch.topk(logits[i], k).indices.tolist()\n",
    "            if next_token in top_k_preds:\n",
    "                topk_correct += 1\n",
    "            total += 1\n",
    "\n",
    "    acc = topk_correct / total if total > 0 else 0.0\n",
    "    print(f\"\\n Top-{k} Accuracy: {acc:.4f} ({topk_correct}/{total})\")\n",
    "    return acc\n",
    "\n",
    "evaluate_top_k(model, raw_dataset, tokenizer, k=5, max_samples=1000)\n"
   ],
   "metadata": {
    "colab": {
     "base_uri": "https://localhost:8080/"
    },
    "id": "bYp4SZ-IK3IV",
    "executionInfo": {
     "status": "ok",
     "timestamp": 1752067126876,
     "user_tz": -330,
     "elapsed": 35557,
     "user": {
      "displayName": "Madhur Sonkar",
      "userId": "16646029765374333998"
     }
    },
    "outputId": "fc70fb51-2c11-4f8e-b865-0223253092ed"
   },
   "execution_count": 5,
   "outputs": [
    {
     "output_type": "stream",
     "name": "stderr",
     "text": [
      "100%|\u2588\u2588\u2588\u2588\u2588\u2588\u2588\u2588\u2588\u2588| 1000/1000 [00:31<00:00, 31.63it/s]"
     ]
    },
    {
     "output_type": "stream",
     "name": "stdout",
     "text": [
      "\n",
      " Top-5 Accuracy: 0.3336 (27285/81788)\n"
     ]
    },
    {
     "output_type": "stream",
     "name": "stderr",
     "text": [
      "\n"
     ]
    },
    {
     "output_type": "execute_result",
     "data": {
      "text/plain": [
       "0.33360639702645867"
      ]
     },
     "metadata": {},
     "execution_count": 5
    }
   ]
  }
 ]
}